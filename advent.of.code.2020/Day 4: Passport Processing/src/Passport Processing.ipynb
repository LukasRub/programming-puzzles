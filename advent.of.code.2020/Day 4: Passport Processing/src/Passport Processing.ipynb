{
 "cells": [
  {
   "cell_type": "code",
   "execution_count": 203,
   "id": "7bf6af58",
   "metadata": {},
   "outputs": [],
   "source": [
    "import re\n",
    "\n",
    "class Passport():\n",
    "    \n",
    "    # If any new or different fields are needed, they only need to be changed here\n",
    "    REQUIRED_FIELDS = {'byr': (lambda x: 1920 <= int(re.match('^\\d{4}$', x).string) <= 2002),\n",
    "                       'iyr': (lambda x: 2010 <= int(re.match('^\\d{4}$', x).string) <= 2020),\n",
    "                       'eyr': (lambda x: 2020 <= int(re.match('^\\d{4}$', x).string) <= 2030),\n",
    "                       'hgt': (lambda x: Passport.__validate_hgt(x)),\n",
    "                       'hcl': (lambda x: re.match('^#(\\d|[a-f]){6}$', x) != None),\n",
    "                       'ecl': (lambda x: x in ['amb', 'blu', 'brn', 'gry', 'grn', 'hzl', 'oth']),\n",
    "                       'pid': (lambda x: re.match('^\\d{9}$', x) != None)}\n",
    "                       \n",
    "    OPTIONAL_FIELDS = {'cid': (lambda x: True)}\n",
    "    \n",
    "   \n",
    "    def __init__(self, **kwargs): \n",
    "        self._req_fields = dict.fromkeys(self.REQUIRED_FIELDS, None)\n",
    "        self._optional_fields = dict.fromkeys(self.OPTIONAL_FIELDS, None)\n",
    "        for name, value in kwargs.items():\n",
    "            if name in (self.REQUIRED_FIELDS | self.OPTIONAL_FIELDS):\n",
    "                setattr(self, name, value)\n",
    "            else:\n",
    "                raise TypeError(\"__init__() got an unexpected keyword argument '{0}'\".format(name))\n",
    "            \n",
    "            \n",
    "    def __setattr__(self, key, value):\n",
    "        if key in self.REQUIRED_FIELDS:\n",
    "            self.__dict__['_req_fields'][key] = value\n",
    "        elif key in self.OPTIONAL_FIELDS:\n",
    "            self.__dict__['_optional_fields'][key] = value\n",
    "        else:\n",
    "            # Normal class instance behaviour is to allow new attribute assignment\n",
    "            self.__dict__[key] = value\n",
    "    \n",
    "    \n",
    "    def __getattr__(self, key):\n",
    "        if key in self.REQUIRED_FIELDS.keys():\n",
    "            return self._req_fields[key]\n",
    "        elif key in self.OPTIONAL_FIELDS.keys():\n",
    "            return self._optional_fields[key]\n",
    "        else:\n",
    "            return self.__dict__[key]\n",
    "\n",
    "            \n",
    "    def is_valid(self):\n",
    "        # Checks if all values in the required fields are present\n",
    "        return all(map(bool, self._req_fields.values()))\n",
    "    \n",
    "    \n",
    "    def is_valid_advanced(self):\n",
    "        # Validates each field according to individual rules\n",
    "        try:\n",
    "            return all(map(lambda kv: self.REQUIRED_FIELDS[kv[0]](kv[1]), self._req_fields.items()))\n",
    "        except TypeError:\n",
    "            return False\n",
    "    \n",
    "    \n",
    "    @staticmethod\n",
    "    def __validate_hgt(field):\n",
    "        valid_ranges = {\n",
    "            'cm': range(150, 193+1),\n",
    "            'in': range(59, 76+1)\n",
    "        }\n",
    "        units, value = field[-2:], field[:-2]           \n",
    "        if units in valid_ranges.keys():\n",
    "            return int(value) in valid_ranges[units]\n",
    "        else:\n",
    "            return False\n",
    "        \n",
    "        \n",
    "    @classmethod\n",
    "    def from_string(cls, string):\n",
    "        present_fields = {kv[0]:kv[1] for kv in map(lambda x: x.split(':'), string.split(' '))}\n",
    "        return cls(**present_fields)"
   ]
  },
  {
   "cell_type": "code",
   "execution_count": 204,
   "id": "f1d52658",
   "metadata": {},
   "outputs": [],
   "source": [
    "INPUT_FILE = './input.txt'\n",
    "\n",
    "def read_file(file=INPUT_FILE):\n",
    "    passports = []\n",
    "    with open(INPUT_FILE, 'r') as fp:\n",
    "        passport_data_str = ''\n",
    "        for line in fp:\n",
    "            if line != '\\n':\n",
    "                passport_data_str += line.replace('\\n', ' ')\n",
    "            else:\n",
    "                passports.append(Passport.from_string(passport_data_str.strip()))\n",
    "                passport_data_str = ''\n",
    "        passports.append(Passport.from_string(passport_data_str.strip()))\n",
    "    return passports              "
   ]
  },
  {
   "cell_type": "code",
   "execution_count": 205,
   "id": "c328e3ea",
   "metadata": {},
   "outputs": [],
   "source": [
    "passports = read_file()"
   ]
  },
  {
   "cell_type": "code",
   "execution_count": 206,
   "id": "3140c0e3",
   "metadata": {},
   "outputs": [],
   "source": [
    "def part_one(passports):\n",
    "    print(sum(map(lambda x: x.is_valid(), passports)))"
   ]
  },
  {
   "cell_type": "code",
   "execution_count": 207,
   "id": "15f6ec2d",
   "metadata": {},
   "outputs": [
    {
     "name": "stdout",
     "output_type": "stream",
     "text": [
      "182\n"
     ]
    }
   ],
   "source": [
    "part_one(passports)"
   ]
  },
  {
   "cell_type": "code",
   "execution_count": 208,
   "id": "e790020e",
   "metadata": {},
   "outputs": [],
   "source": [
    "def part_two(passports):\n",
    "    print(sum(map(lambda x: x.is_valid_advanced(), passports)))"
   ]
  },
  {
   "cell_type": "code",
   "execution_count": 209,
   "id": "9ed4a395",
   "metadata": {},
   "outputs": [
    {
     "name": "stdout",
     "output_type": "stream",
     "text": [
      "109\n"
     ]
    }
   ],
   "source": [
    "part_two(passports)"
   ]
  }
 ],
 "metadata": {
  "kernelspec": {
   "display_name": "Python 3",
   "language": "python",
   "name": "python3"
  },
  "language_info": {
   "codemirror_mode": {
    "name": "ipython",
    "version": 3
   },
   "file_extension": ".py",
   "mimetype": "text/x-python",
   "name": "python",
   "nbconvert_exporter": "python",
   "pygments_lexer": "ipython3",
   "version": "3.9.2"
  }
 },
 "nbformat": 4,
 "nbformat_minor": 5
}