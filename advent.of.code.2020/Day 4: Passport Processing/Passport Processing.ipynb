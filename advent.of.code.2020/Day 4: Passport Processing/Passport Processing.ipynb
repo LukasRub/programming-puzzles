{
 "cells": [
  {
   "cell_type": "code",
   "execution_count": 176,
   "id": "7bf6af58",
   "metadata": {},
   "outputs": [],
   "source": [
    "class Passport():\n",
    "    \n",
    "    # If any new or different fields are needed, they only need to be changed here\n",
    "    REQUIRED_FIELDS = {'byr', 'iyr', 'eyr', 'hgt', 'hcl', 'ecl', 'pid'}\n",
    "    OPTIONAL_FIELDS = {'cid'}\n",
    "   \n",
    "    def __init__(self, **kwargs): \n",
    "        self._req_fields = dict.fromkeys(self.REQUIRED_FIELDS, None)\n",
    "        self._optional_fields = dict.fromkeys(self.OPTIONAL_FIELDS, None)\n",
    "        for name, value in kwargs.items():\n",
    "            if name in (self.REQUIRED_FIELDS | self.OPTIONAL_FIELDS):\n",
    "                setattr(self, name, value)\n",
    "            else:\n",
    "                raise TypeError(\"__init__() got an unexpected keyword argument '{0}'\".format(name))\n",
    "            \n",
    "            \n",
    "    def __setattr__(self, key, value):\n",
    "        if key in self.REQUIRED_FIELDS:\n",
    "            self.__dict__['_req_fields'][key] = value\n",
    "        elif key in self.OPTIONAL_FIELDS:\n",
    "            self.__dict__['_optional_fields'][key] = value\n",
    "        else:\n",
    "            # Normal class instance behaviour is to allow new attribute assignment\n",
    "            self.__dict__[key] = value\n",
    "    \n",
    "    \n",
    "    def __getattr__(self, key):\n",
    "        if key in self.REQUIRED_FIELDS:\n",
    "            return self._req_fields[key]\n",
    "        elif key in self.OPTIONAL_FIELDS:\n",
    "            return self._optional_fields[key]\n",
    "        else:\n",
    "            return self.__dict__[key]\n",
    "\n",
    "            \n",
    "    def is_valid(self):\n",
    "        # Checks if all values in the required fields are present\n",
    "        return all(map(bool, self._req_fields.values()))\n",
    "        \n",
    "        \n",
    "    @classmethod\n",
    "    def from_string(cls, string):\n",
    "        present_fields = {kv[0]:kv[1] for kv in map(lambda x: x.split(':'), string.split(' '))}\n",
    "        print(present_fields)\n",
    "        return cls(**present_fields)"
   ]
  },
  {
   "cell_type": "code",
   "execution_count": null,
   "id": "c328e3ea",
   "metadata": {},
   "outputs": [],
   "source": []
  }
 ],
 "metadata": {
  "kernelspec": {
   "display_name": "Python 3",
   "language": "python",
   "name": "python3"
  },
  "language_info": {
   "codemirror_mode": {
    "name": "ipython",
    "version": 3
   },
   "file_extension": ".py",
   "mimetype": "text/x-python",
   "name": "python",
   "nbconvert_exporter": "python",
   "pygments_lexer": "ipython3",
   "version": "3.9.4"
  }
 },
 "nbformat": 4,
 "nbformat_minor": 5
}
