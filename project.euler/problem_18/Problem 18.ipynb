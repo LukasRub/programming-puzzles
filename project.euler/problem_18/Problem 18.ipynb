{
 "cells": [
  {
   "cell_type": "code",
   "execution_count": 28,
   "metadata": {},
   "outputs": [],
   "source": [
    "import numpy as np"
   ]
  },
  {
   "cell_type": "code",
   "execution_count": 29,
   "metadata": {},
   "outputs": [],
   "source": [
    "def read_triangle(filename):\n",
    "    triangle = list()\n",
    "    with open(filename, 'r') as fp:\n",
    "        for line in fp.readlines():\n",
    "            triangle.append(np.fromstring(line, sep=' '))\n",
    "    return triangle[::-1]"
   ]
  },
  {
   "cell_type": "code",
   "execution_count": 30,
   "metadata": {},
   "outputs": [],
   "source": [
    "def rolling_max(array, window_size=2):\n",
    "    rolling_max = list()\n",
    "    for i in range(len(array)-1):\n",
    "        rolling_max.append(max(array[i:i+window_size]))\n",
    "    return np.array(rolling_max)"
   ]
  },
  {
   "cell_type": "code",
   "execution_count": 31,
   "metadata": {
    "tags": []
   },
   "outputs": [
    {
     "output_type": "stream",
     "name": "stdout",
     "text": [
      "206 µs ± 2.28 µs per loop (mean ± std. dev. of 7 runs, 1000 loops each)\n"
     ]
    }
   ],
   "source": [
    "%%timeit\n",
    "\n",
    "triangle = read_triangle('p018.txt')\n",
    "for i in range(len(triangle)-1):\n",
    "    triangle[i+1] += rolling_max(triangle[i])"
   ]
  },
  {
   "cell_type": "code",
   "execution_count": 32,
   "metadata": {},
   "outputs": [
    {
     "output_type": "stream",
     "name": "stdout",
     "text": [
      "1074.0\n"
     ]
    }
   ],
   "source": [
    "print(triangle[-1][0])"
   ]
  },
  {
   "cell_type": "code",
   "execution_count": null,
   "metadata": {},
   "outputs": [],
   "source": []
  }
 ],
 "metadata": {
  "kernelspec": {
   "display_name": "Python 3",
   "language": "python",
   "name": "python3"
  },
  "language_info": {
   "codemirror_mode": {
    "name": "ipython",
    "version": 3
   },
   "file_extension": ".py",
   "mimetype": "text/x-python",
   "name": "python",
   "nbconvert_exporter": "python",
   "pygments_lexer": "ipython3",
   "version": "3.7.6-final"
  }
 },
 "nbformat": 4,
 "nbformat_minor": 4
}